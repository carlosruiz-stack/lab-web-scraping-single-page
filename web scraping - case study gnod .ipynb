{
 "cells": [
  {
   "cell_type": "code",
   "execution_count": 1,
   "id": "39e74edb",
   "metadata": {},
   "outputs": [
    {
     "name": "stdout",
     "output_type": "stream",
     "text": [
      "Requirement already satisfied: beautifulsoup4 in c:\\users\\ruizg\\anaconda3\\lib\\site-packages (4.11.1)\n",
      "Requirement already satisfied: pandas in c:\\users\\ruizg\\anaconda3\\lib\\site-packages (1.4.4)\n",
      "Requirement already satisfied: requests in c:\\users\\ruizg\\anaconda3\\lib\\site-packages (2.28.1)\n",
      "Requirement already satisfied: soupsieve>1.2 in c:\\users\\ruizg\\anaconda3\\lib\\site-packages (from beautifulsoup4) (2.3.1)\n",
      "Requirement already satisfied: python-dateutil>=2.8.1 in c:\\users\\ruizg\\anaconda3\\lib\\site-packages (from pandas) (2.8.2)\n",
      "Requirement already satisfied: pytz>=2020.1 in c:\\users\\ruizg\\anaconda3\\lib\\site-packages (from pandas) (2022.1)\n",
      "Requirement already satisfied: numpy>=1.18.5 in c:\\users\\ruizg\\anaconda3\\lib\\site-packages (from pandas) (1.21.5)\n",
      "Requirement already satisfied: charset-normalizer<3,>=2 in c:\\users\\ruizg\\anaconda3\\lib\\site-packages (from requests) (2.0.4)\n",
      "Requirement already satisfied: idna<4,>=2.5 in c:\\users\\ruizg\\anaconda3\\lib\\site-packages (from requests) (3.3)\n",
      "Requirement already satisfied: urllib3<1.27,>=1.21.1 in c:\\users\\ruizg\\anaconda3\\lib\\site-packages (from requests) (1.26.11)\n",
      "Requirement already satisfied: certifi>=2017.4.17 in c:\\users\\ruizg\\anaconda3\\lib\\site-packages (from requests) (2023.5.7)\n",
      "Requirement already satisfied: six>=1.5 in c:\\users\\ruizg\\anaconda3\\lib\\site-packages (from python-dateutil>=2.8.1->pandas) (1.16.0)\n",
      "Note: you may need to restart the kernel to use updated packages.\n"
     ]
    }
   ],
   "source": [
    "# pip install \n",
    "pip install beautifulsoup4 pandas requests"
   ]
  },
  {
   "cell_type": "code",
   "execution_count": 2,
   "id": "456b478d",
   "metadata": {},
   "outputs": [],
   "source": [
    "# import libraries \n",
    "import requests\n",
    "from bs4 import BeautifulSoup\n",
    "import pandas as pd"
   ]
  },
  {
   "cell_type": "code",
   "execution_count": 3,
   "id": "c57c68fc",
   "metadata": {},
   "outputs": [],
   "source": [
    "# send get request and retrieve content \n",
    "url = 'https://www.billboard.com/charts/hot-100/'\n",
    "response = requests.get(url)\n",
    "content = response.content"
   ]
  },
  {
   "cell_type": "code",
   "execution_count": 4,
   "id": "3d1285c9",
   "metadata": {},
   "outputs": [],
   "source": [
    "# parse content \n",
    "soup = BeautifulSoup(content, 'html.parser')"
   ]
  },
  {
   "cell_type": "code",
   "execution_count": 5,
   "id": "9df6ceb6",
   "metadata": {},
   "outputs": [],
   "source": [
    "# find the container \n",
    "container = soup.find('ol', class_='chart-list__elements')"
   ]
  },
  {
   "cell_type": "code",
   "execution_count": 6,
   "id": "062bfae3",
   "metadata": {},
   "outputs": [],
   "source": [
    "# initialise empty list with song and artist information\n",
    "songs = []\n",
    "artists = []"
   ]
  },
  {
   "cell_type": "markdown",
   "id": "9dc11a21",
   "metadata": {},
   "source": [
    "# Extract song and artist information\n",
    "for item in container.find_all('li'):\n",
    "    song = item.find('span', class_='chart-element__information__song').text\n",
    "    artist = item.find('span', class_='chart-element__information__artist').text\n",
    "    songs.append(song)\n",
    "    artists.append(artist)"
   ]
  },
  {
   "cell_type": "code",
   "execution_count": null,
   "id": "92039abc",
   "metadata": {},
   "outputs": [],
   "source": [
    "# at this point, I get an AttributeError: 'NoneType' object has no attribute 'find_all'\n",
    "## in the next step, I apply error handling "
   ]
  },
  {
   "cell_type": "markdown",
   "id": "dfd58619",
   "metadata": {},
   "source": [
    "if container is not None:\n",
    "    # Initialize empty lists to store the song and artist information\n",
    "    songs = []\n",
    "    artists = []\n",
    "\n",
    "    # Extract the song and artist information from the container\n",
    "    for item in container.find_all('li'):\n",
    "        song = item.find('span', class_='chart-element__information__song').text\n",
    "        artist = item.find('span', class_='chart-element__information__artist').text\n",
    "        songs.append(song)\n",
    "        artists.append(artist)\n",
    "\n",
    "    # Create a pandas dataframe using the extracted information\n",
    "    data = {'Song': songs, 'Artist': artists}\n",
    "    df = pd.DataFrame(data)\n",
    "else:\n",
    "    print(\"Container not found.\")"
   ]
  },
  {
   "cell_type": "markdown",
   "id": "013c9a81",
   "metadata": {},
   "source": [
    "# we want you to create clusters of songs that are similar to each other\n",
    "(this is to be done once the songs are loaded into the dataset)"
   ]
  }
 ],
 "metadata": {
  "kernelspec": {
   "display_name": "Python 3 (ipykernel)",
   "language": "python",
   "name": "python3"
  },
  "language_info": {
   "codemirror_mode": {
    "name": "ipython",
    "version": 3
   },
   "file_extension": ".py",
   "mimetype": "text/x-python",
   "name": "python",
   "nbconvert_exporter": "python",
   "pygments_lexer": "ipython3",
   "version": "3.9.13"
  }
 },
 "nbformat": 4,
 "nbformat_minor": 5
}
